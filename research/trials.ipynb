{
 "cells": [
  {
   "cell_type": "code",
   "execution_count": 1,
   "id": "b6f160a2",
   "metadata": {},
   "outputs": [],
   "source": [
    "d={\"key\":\"value\",\"key1\":\"value1\"}"
   ]
  },
  {
   "cell_type": "code",
   "execution_count": 2,
   "id": "a62fe524",
   "metadata": {},
   "outputs": [],
   "source": [
    "from box import ConfigBox"
   ]
  },
  {
   "cell_type": "code",
   "execution_count": 3,
   "id": "2f462e03",
   "metadata": {},
   "outputs": [],
   "source": [
    "d2=ConfigBox({\"key\":\"value\",\"key1\":\"value1\"})"
   ]
  },
  {
   "cell_type": "code",
   "execution_count": 5,
   "id": "0e2911aa",
   "metadata": {},
   "outputs": [
    {
     "data": {
      "text/plain": [
       "'value'"
      ]
     },
     "execution_count": 5,
     "metadata": {},
     "output_type": "execute_result"
    }
   ],
   "source": [
    "d2.key"
   ]
  },
  {
   "cell_type": "code",
   "execution_count": 8,
   "id": "7cfae92d",
   "metadata": {},
   "outputs": [],
   "source": [
    "def  get_product(x:int,y:int)-> int:\n",
    "    return x*y\n"
   ]
  },
  {
   "cell_type": "code",
   "execution_count": 9,
   "id": "1713718e",
   "metadata": {},
   "outputs": [
    {
     "data": {
      "text/plain": [
       "'44'"
      ]
     },
     "execution_count": 9,
     "metadata": {},
     "output_type": "execute_result"
    }
   ],
   "source": [
    "get_product(x=2,y='4')"
   ]
  },
  {
   "cell_type": "code",
   "execution_count": 15,
   "id": "b22d72ed",
   "metadata": {},
   "outputs": [],
   "source": [
    "from ensure import ensure_annotations\n",
    "\n",
    "@ensure_annotations\n",
    "def f(x: int, y: float) -> float:\n",
    "    return x+y"
   ]
  },
  {
   "cell_type": "code",
   "execution_count": null,
   "id": "dd67100e",
   "metadata": {},
   "outputs": [],
   "source": []
  }
 ],
 "metadata": {
  "kernelspec": {
   "display_name": "mlops_env",
   "language": "python",
   "name": "python3"
  },
  "language_info": {
   "codemirror_mode": {
    "name": "ipython",
    "version": 3
   },
   "file_extension": ".py",
   "mimetype": "text/x-python",
   "name": "python",
   "nbconvert_exporter": "python",
   "pygments_lexer": "ipython3",
   "version": "3.12.7"
  }
 },
 "nbformat": 4,
 "nbformat_minor": 5
}
